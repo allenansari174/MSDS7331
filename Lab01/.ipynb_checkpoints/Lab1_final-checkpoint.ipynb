{
 "cells": [
  {
   "cell_type": "markdown",
   "metadata": {},
   "source": [
    "# Assignment 1: Data Exploration and Analysis\n",
    "### Allen Ansari, Chad Madding and Yongjun (Ian) Chu \n",
    "\n",
    "\n",
    "## Business Understanding\n",
    "### Choosing the cadiovascular diseases dataset\n",
    "Cardiovascular diseases (CVD) are the no. 1 cause of death in US each year. To reduce the death rate, the best approach is by early detection and screening. An efficeint way would be to predict the probablity of a patient having CVD based on results from medical examinations, such as blood pressure values and glucose content. \n",
    "\n",
    "Here, we obtained a CVD dataset from Kaggle. It consists of 70,000 records of patients data in 12 features, such as age, gender, systolic blood pressure, diastolic blood pressure and CVD status(binary, 1 or 0). The purpose of this dataset was to determine which medical aspects had the most bearing on whether a patient would had CVD or not. \n",
    "\n",
    "To mine useful knowledge from the dataset, we will establish a prediction algorithm chosen from some commonly used classification models, including logistic regression, to find a relationship between a specific attribute or group of attributes and the probability of having CVD for a patient. To measure the effectiveness of our prediction algorithm, we will use the cross-validation. For each evaluation, accuracy metric for binary classification models called Area Under the (Receiver Operating Characteristic) Curve (AUC) will be generated. AUC measures the ability of the model to predict a higher score for positive examples as compared to negative examples. We can get the overall performance measure by computing the average of the AUC metrics from cross-validations for any particular model. Results from different models will be compared and the best one(s) will be chosen. "
   ]
  },
  {
   "cell_type": "markdown",
   "metadata": {},
   "source": [
    "## Data Understanding"
   ]
  },
  {
   "cell_type": "markdown",
   "metadata": {},
   "source": [
    "### Data description\n",
    "\n",
    "We will be peforming an analysis of the cadiovascular diseases dataset found on Kaggle (https://www.kaggle.com/sulianova/cardiovascular-disease-dataset). Our analysis will consist of exploring the statistical summaries of the features, visualizing the attributes, and making conclusions from the visualizations and analysis.\n",
    "\n",
    "Our task is to predict the presence or absence of cardiovascular disease (CVD) using the patient examination results. \n",
    "\n",
    "There are 3 types of input features:\n",
    "\n",
    "- *Objective*: factual information;\n",
    "- *Examination*: results of medical examination;\n",
    "- *Subjective*: information given by the patient.\n",
    "\n",
    "|Feature   |Variable Type   |Variable   |Value Type   |\n",
    "|:---------|:--------------|:---------------|:------------|\n",
    "| Age | Objective Feature | age | int (days) |\n",
    "| Height | Objective Feature | height | int (cm) |\n",
    "| Weight | Objective Feature | weight | float (kg) |\n",
    "| Gender | Objective Feature | gender | categorical code |\n",
    "| Systolic blood pressure | Examination Feature | ap_hi | int |\n",
    "| Diastolic blood pressure | Examination Feature | ap_lo | int |\n",
    "| Cholesterol | Examination Feature | cholesterol | 1: normal, 2: above normal, 3: well above normal |\n",
    "| Glucose | Examination Feature | gluc | 1: normal, 2: above normal, 3: well above normal |\n",
    "| Smoking | Subjective Feature | smoke | binary |\n",
    "| Alcohol intake | Subjective Feature | alco | binary |\n",
    "| Physical activity | Subjective Feature | active | binary |\n",
    "| Presence or absence of cardiovascular disease | Target Variable | cardio | binary |\n",
    "\n",
    "For any binary data type, \"0\" means \"No\" and \"1\" means \"Yes\". All of the dataset values were collected at the moment of medical examination."
   ]
  },
  {
   "cell_type": "markdown",
   "metadata": {},
   "source": [
    "### Data Quality"
   ]
  },
  {
   "cell_type": "markdown",
   "metadata": {},
   "source": [
    "Data import and cleanup:"
   ]
  },
  {
   "cell_type": "code",
   "execution_count": 1,
   "metadata": {},
   "outputs": [
    {
     "name": "stdout",
     "output_type": "stream",
     "text": [
      "(70000, 13)\n"
     ]
    },
    {
     "data": {
      "text/html": [
       "<div>\n",
       "<style scoped>\n",
       "    .dataframe tbody tr th:only-of-type {\n",
       "        vertical-align: middle;\n",
       "    }\n",
       "\n",
       "    .dataframe tbody tr th {\n",
       "        vertical-align: top;\n",
       "    }\n",
       "\n",
       "    .dataframe thead th {\n",
       "        text-align: right;\n",
       "    }\n",
       "</style>\n",
       "<table border=\"1\" class=\"dataframe\">\n",
       "  <thead>\n",
       "    <tr style=\"text-align: right;\">\n",
       "      <th></th>\n",
       "      <th>id</th>\n",
       "      <th>age</th>\n",
       "      <th>gender</th>\n",
       "      <th>height</th>\n",
       "      <th>weight</th>\n",
       "      <th>ap_hi</th>\n",
       "      <th>ap_lo</th>\n",
       "      <th>cholesterol</th>\n",
       "      <th>gluc</th>\n",
       "      <th>smoke</th>\n",
       "      <th>alco</th>\n",
       "      <th>active</th>\n",
       "      <th>cardio</th>\n",
       "    </tr>\n",
       "  </thead>\n",
       "  <tbody>\n",
       "    <tr>\n",
       "      <td>0</td>\n",
       "      <td>0</td>\n",
       "      <td>18393</td>\n",
       "      <td>2</td>\n",
       "      <td>168</td>\n",
       "      <td>62.0</td>\n",
       "      <td>110</td>\n",
       "      <td>80</td>\n",
       "      <td>1</td>\n",
       "      <td>1</td>\n",
       "      <td>0</td>\n",
       "      <td>0</td>\n",
       "      <td>1</td>\n",
       "      <td>0</td>\n",
       "    </tr>\n",
       "    <tr>\n",
       "      <td>1</td>\n",
       "      <td>1</td>\n",
       "      <td>20228</td>\n",
       "      <td>1</td>\n",
       "      <td>156</td>\n",
       "      <td>85.0</td>\n",
       "      <td>140</td>\n",
       "      <td>90</td>\n",
       "      <td>3</td>\n",
       "      <td>1</td>\n",
       "      <td>0</td>\n",
       "      <td>0</td>\n",
       "      <td>1</td>\n",
       "      <td>1</td>\n",
       "    </tr>\n",
       "    <tr>\n",
       "      <td>2</td>\n",
       "      <td>2</td>\n",
       "      <td>18857</td>\n",
       "      <td>1</td>\n",
       "      <td>165</td>\n",
       "      <td>64.0</td>\n",
       "      <td>130</td>\n",
       "      <td>70</td>\n",
       "      <td>3</td>\n",
       "      <td>1</td>\n",
       "      <td>0</td>\n",
       "      <td>0</td>\n",
       "      <td>0</td>\n",
       "      <td>1</td>\n",
       "    </tr>\n",
       "    <tr>\n",
       "      <td>3</td>\n",
       "      <td>3</td>\n",
       "      <td>17623</td>\n",
       "      <td>2</td>\n",
       "      <td>169</td>\n",
       "      <td>82.0</td>\n",
       "      <td>150</td>\n",
       "      <td>100</td>\n",
       "      <td>1</td>\n",
       "      <td>1</td>\n",
       "      <td>0</td>\n",
       "      <td>0</td>\n",
       "      <td>1</td>\n",
       "      <td>1</td>\n",
       "    </tr>\n",
       "    <tr>\n",
       "      <td>4</td>\n",
       "      <td>4</td>\n",
       "      <td>17474</td>\n",
       "      <td>1</td>\n",
       "      <td>156</td>\n",
       "      <td>56.0</td>\n",
       "      <td>100</td>\n",
       "      <td>60</td>\n",
       "      <td>1</td>\n",
       "      <td>1</td>\n",
       "      <td>0</td>\n",
       "      <td>0</td>\n",
       "      <td>0</td>\n",
       "      <td>0</td>\n",
       "    </tr>\n",
       "  </tbody>\n",
       "</table>\n",
       "</div>"
      ],
      "text/plain": [
       "   id    age  gender  height  weight  ap_hi  ap_lo  cholesterol  gluc  smoke  \\\n",
       "0   0  18393       2     168    62.0    110     80            1     1      0   \n",
       "1   1  20228       1     156    85.0    140     90            3     1      0   \n",
       "2   2  18857       1     165    64.0    130     70            3     1      0   \n",
       "3   3  17623       2     169    82.0    150    100            1     1      0   \n",
       "4   4  17474       1     156    56.0    100     60            1     1      0   \n",
       "\n",
       "   alco  active  cardio  \n",
       "0     0       1       0  \n",
       "1     0       1       1  \n",
       "2     0       0       1  \n",
       "3     0       1       1  \n",
       "4     0       0       0  "
      ]
     },
     "execution_count": 1,
     "metadata": {},
     "output_type": "execute_result"
    }
   ],
   "source": [
    "import pandas as pd\n",
    "import numpy as np\n",
    "import copy\n",
    "import seaborn as sns\n",
    "\n",
    "import matplotlib\n",
    "import matplotlib.pyplot as plt\n",
    "%matplotlib inline\n",
    "\n",
    "matplotlib.style.use('ggplot')\n",
    "\n",
    "import warnings\n",
    "warnings.simplefilter('ignore', DeprecationWarning)\n",
    "warnings.simplefilter('ignore', FutureWarning)\n",
    "\n",
    "from pandas.plotting import scatter_matrix\n",
    "\n",
    "#Bring in data set\n",
    "df = pd.read_csv('data/cardio_train.csv', sep=';') #read in the csv file\n",
    "\n",
    "# Show the dimention and the first 5 rows of the dataset\n",
    "print(df.shape)\n",
    "df.head()"
   ]
  },
  {
   "cell_type": "markdown",
   "metadata": {},
   "source": [
    "The original dataset has 70,000 rows and 13 attibutes. We will drop the \"id\" attribute as it is not needed in this assignment."
   ]
  },
  {
   "cell_type": "code",
   "execution_count": 2,
   "metadata": {},
   "outputs": [
    {
     "name": "stdout",
     "output_type": "stream",
     "text": [
      "<class 'pandas.core.frame.DataFrame'>\n",
      "RangeIndex: 70000 entries, 0 to 69999\n",
      "Data columns (total 12 columns):\n",
      "age            70000 non-null int64\n",
      "gender         70000 non-null int64\n",
      "height         70000 non-null int64\n",
      "weight         70000 non-null float64\n",
      "ap_hi          70000 non-null int64\n",
      "ap_lo          70000 non-null int64\n",
      "cholesterol    70000 non-null int64\n",
      "gluc           70000 non-null int64\n",
      "smoke          70000 non-null int64\n",
      "alco           70000 non-null int64\n",
      "active         70000 non-null int64\n",
      "cardio         70000 non-null int64\n",
      "dtypes: float64(1), int64(11)\n",
      "memory usage: 6.4 MB\n"
     ]
    }
   ],
   "source": [
    "# drop 'id' column \n",
    "if 'id' in df:\n",
    "    del df['id']\n",
    "\n",
    "#df.drop('id',axis=1,inplace=True)\n",
    "\n",
    "df.info()"
   ]
  },
  {
   "cell_type": "markdown",
   "metadata": {},
   "source": [
    "Are there any NAs or missing values in the dataset?"
   ]
  },
  {
   "cell_type": "code",
   "execution_count": 3,
   "metadata": {},
   "outputs": [
    {
     "data": {
      "text/plain": [
       "age            0\n",
       "gender         0\n",
       "height         0\n",
       "weight         0\n",
       "ap_hi          0\n",
       "ap_lo          0\n",
       "cholesterol    0\n",
       "gluc           0\n",
       "smoke          0\n",
       "alco           0\n",
       "active         0\n",
       "cardio         0\n",
       "dtype: int64"
      ]
     },
     "execution_count": 3,
     "metadata": {},
     "output_type": "execute_result"
    }
   ],
   "source": [
    "# Total missing values for each feature\n",
    "df.isnull().sum()"
   ]
  },
  {
   "cell_type": "code",
   "execution_count": 4,
   "metadata": {},
   "outputs": [
    {
     "data": {
      "text/plain": [
       "False"
      ]
     },
     "execution_count": 4,
     "metadata": {},
     "output_type": "execute_result"
    }
   ],
   "source": [
    "df.isnull().values.any()"
   ]
  },
  {
   "cell_type": "markdown",
   "metadata": {},
   "source": [
    "No, there are no missing values or NAs in the dataset."
   ]
  },
  {
   "cell_type": "code",
   "execution_count": 5,
   "metadata": {},
   "outputs": [
    {
     "name": "stdout",
     "output_type": "stream",
     "text": [
      "age\n",
      "gender\n",
      "height\n",
      "weight\n",
      "ap_hi\n",
      "ap_lo\n",
      "cholesterol\n",
      "gluc\n",
      "smoke\n",
      "alco\n",
      "active\n",
      "cardio\n",
      "70000\n"
     ]
    }
   ],
   "source": [
    "# Are there any non-numbers in each column?\n",
    "for column in df:\n",
    "    print(column)\n",
    "    cnt=0\n",
    "    for row in df[column]:\n",
    "        try:\n",
    "            float(row)\n",
    "            #df.loc[cnt, 'ap_lo']=row\n",
    "        except ValueError:\n",
    "            print(\"there is a non-numeric value: \" + row)\n",
    "            pass\n",
    "        cnt+=1\n",
    "        \n",
    "print(cnt)"
   ]
  },
  {
   "cell_type": "markdown",
   "metadata": {},
   "source": [
    "No, all values in the dataset are numeric."
   ]
  },
  {
   "cell_type": "code",
   "execution_count": 6,
   "metadata": {},
   "outputs": [
    {
     "name": "stdout",
     "output_type": "stream",
     "text": [
      "Duplicate Rows except first occurrence based on all columns are :\n",
      "         age  gender  height  weight  ap_hi  ap_lo  cholesterol  gluc  smoke  \\\n",
      "10562  20495       1     165    70.0    120     80            1     1      0   \n",
      "21784  16793       1     165    68.0    120     80            1     1      0   \n",
      "38505  18988       1     164    65.0    120     80            1     1      0   \n",
      "40365  14552       1     158    64.0    120     80            1     1      0   \n",
      "42450  18353       1     169    67.0    120     80            1     1      0   \n",
      "44653  16937       2     170    70.0    120     80            1     1      0   \n",
      "45125  21280       1     165    65.0    120     80            1     1      0   \n",
      "45748  22077       1     175    69.0    120     80            1     1      0   \n",
      "45810  21230       1     164    62.0    120     80            1     1      0   \n",
      "48917  21945       1     165    60.0    120     80            1     1      0   \n",
      "50432  17493       2     169    74.0    120     80            1     1      0   \n",
      "52552  21943       1     165    65.0    120     80            1     1      0   \n",
      "56643  17535       2     165    65.0    120     80            1     1      0   \n",
      "56906  20293       1     162    70.0    110     70            1     1      0   \n",
      "57946  18955       1     165    75.0    120     80            1     1      0   \n",
      "58730  19858       1     165    68.0    120     80            1     1      0   \n",
      "60453  20516       1     164    66.0    120     80            1     1      0   \n",
      "60474  16805       1     157    67.0    120     80            1     1      0   \n",
      "62318  18979       1     165    65.0    120     80            1     1      0   \n",
      "64169  16160       1     168    65.0    120     80            1     1      0   \n",
      "65079  18210       1     160    60.0    120     80            1     1      0   \n",
      "65622  21778       1     160    58.0    120     80            1     1      0   \n",
      "66190  19059       1     165    65.0    120     80            1     1      0   \n",
      "68281  21119       1     160    60.0    120     80            1     1      0   \n",
      "\n",
      "       alco  active  cardio  \n",
      "10562     0       1       0  \n",
      "21784     0       1       0  \n",
      "38505     0       1       0  \n",
      "40365     0       1       0  \n",
      "42450     0       1       0  \n",
      "44653     0       0       0  \n",
      "45125     0       1       0  \n",
      "45748     0       1       1  \n",
      "45810     0       1       0  \n",
      "48917     0       1       0  \n",
      "50432     0       1       1  \n",
      "52552     0       1       1  \n",
      "56643     0       1       0  \n",
      "56906     0       1       0  \n",
      "57946     0       1       1  \n",
      "58730     0       1       0  \n",
      "60453     0       0       0  \n",
      "60474     0       1       0  \n",
      "62318     0       0       0  \n",
      "64169     0       1       1  \n",
      "65079     0       1       0  \n",
      "65622     0       1       0  \n",
      "66190     0       1       1  \n",
      "68281     0       0       1  \n",
      "\n",
      "There are 24 duplicated entries in the dataset!\n"
     ]
    }
   ],
   "source": [
    "#Are there any duplicate entries in the dataset?\n",
    "#duplicateRowsDF = df[df.duplicated(keep=False)]\n",
    "duplicateRowsDF = df[df.duplicated(keep='first')]\n",
    "\n",
    "print(\"Duplicate Rows except first occurrence based on all columns are :\")\n",
    "print(duplicateRowsDF)\n",
    "\n",
    "print(f\"\\nThere are {len(duplicateRowsDF)} duplicated entries in the dataset!\")\n"
   ]
  },
  {
   "cell_type": "markdown",
   "metadata": {},
   "source": [
    "For duplicated entries, we think they were just from mistakes by entering more than once. These 24 entries should be removed. "
   ]
  },
  {
   "cell_type": "code",
   "execution_count": 7,
   "metadata": {},
   "outputs": [
    {
     "data": {
      "text/plain": [
       "(69976, 12)"
      ]
     },
     "execution_count": 7,
     "metadata": {},
     "output_type": "execute_result"
    }
   ],
   "source": [
    "#remove duplicates in the dataframe\n",
    "df.drop_duplicates(keep = 'first', inplace = True) \n",
    "df.shape"
   ]
  },
  {
   "cell_type": "code",
   "execution_count": 8,
   "metadata": {},
   "outputs": [
    {
     "data": {
      "text/html": [
       "<div>\n",
       "<style scoped>\n",
       "    .dataframe tbody tr th:only-of-type {\n",
       "        vertical-align: middle;\n",
       "    }\n",
       "\n",
       "    .dataframe tbody tr th {\n",
       "        vertical-align: top;\n",
       "    }\n",
       "\n",
       "    .dataframe thead th {\n",
       "        text-align: right;\n",
       "    }\n",
       "</style>\n",
       "<table border=\"1\" class=\"dataframe\">\n",
       "  <thead>\n",
       "    <tr style=\"text-align: right;\">\n",
       "      <th></th>\n",
       "      <th>age</th>\n",
       "      <th>gender</th>\n",
       "      <th>height</th>\n",
       "      <th>weight</th>\n",
       "      <th>ap_hi</th>\n",
       "      <th>ap_lo</th>\n",
       "      <th>cholesterol</th>\n",
       "      <th>gluc</th>\n",
       "      <th>smoke</th>\n",
       "      <th>alco</th>\n",
       "      <th>active</th>\n",
       "      <th>cardio</th>\n",
       "    </tr>\n",
       "  </thead>\n",
       "  <tbody>\n",
       "    <tr>\n",
       "      <td>count</td>\n",
       "      <td>69976.000000</td>\n",
       "      <td>69976.000000</td>\n",
       "      <td>69976.000000</td>\n",
       "      <td>69976.000000</td>\n",
       "      <td>69976.000000</td>\n",
       "      <td>69976.000000</td>\n",
       "      <td>69976.000000</td>\n",
       "      <td>69976.000000</td>\n",
       "      <td>69976.000000</td>\n",
       "      <td>69976.000000</td>\n",
       "      <td>69976.000000</td>\n",
       "      <td>69976.000000</td>\n",
       "    </tr>\n",
       "    <tr>\n",
       "      <td>mean</td>\n",
       "      <td>19468.950126</td>\n",
       "      <td>1.349648</td>\n",
       "      <td>164.359152</td>\n",
       "      <td>74.208519</td>\n",
       "      <td>128.820453</td>\n",
       "      <td>96.636261</td>\n",
       "      <td>1.366997</td>\n",
       "      <td>1.226535</td>\n",
       "      <td>0.088159</td>\n",
       "      <td>0.053790</td>\n",
       "      <td>0.803718</td>\n",
       "      <td>0.499771</td>\n",
       "    </tr>\n",
       "    <tr>\n",
       "      <td>std</td>\n",
       "      <td>2467.374620</td>\n",
       "      <td>0.476862</td>\n",
       "      <td>8.211218</td>\n",
       "      <td>14.397211</td>\n",
       "      <td>154.037729</td>\n",
       "      <td>188.504581</td>\n",
       "      <td>0.680333</td>\n",
       "      <td>0.572353</td>\n",
       "      <td>0.283528</td>\n",
       "      <td>0.225604</td>\n",
       "      <td>0.397187</td>\n",
       "      <td>0.500004</td>\n",
       "    </tr>\n",
       "    <tr>\n",
       "      <td>min</td>\n",
       "      <td>10798.000000</td>\n",
       "      <td>1.000000</td>\n",
       "      <td>55.000000</td>\n",
       "      <td>10.000000</td>\n",
       "      <td>-150.000000</td>\n",
       "      <td>-70.000000</td>\n",
       "      <td>1.000000</td>\n",
       "      <td>1.000000</td>\n",
       "      <td>0.000000</td>\n",
       "      <td>0.000000</td>\n",
       "      <td>0.000000</td>\n",
       "      <td>0.000000</td>\n",
       "    </tr>\n",
       "    <tr>\n",
       "      <td>25%</td>\n",
       "      <td>17664.000000</td>\n",
       "      <td>1.000000</td>\n",
       "      <td>159.000000</td>\n",
       "      <td>65.000000</td>\n",
       "      <td>120.000000</td>\n",
       "      <td>80.000000</td>\n",
       "      <td>1.000000</td>\n",
       "      <td>1.000000</td>\n",
       "      <td>0.000000</td>\n",
       "      <td>0.000000</td>\n",
       "      <td>1.000000</td>\n",
       "      <td>0.000000</td>\n",
       "    </tr>\n",
       "    <tr>\n",
       "      <td>50%</td>\n",
       "      <td>19703.000000</td>\n",
       "      <td>1.000000</td>\n",
       "      <td>165.000000</td>\n",
       "      <td>72.000000</td>\n",
       "      <td>120.000000</td>\n",
       "      <td>80.000000</td>\n",
       "      <td>1.000000</td>\n",
       "      <td>1.000000</td>\n",
       "      <td>0.000000</td>\n",
       "      <td>0.000000</td>\n",
       "      <td>1.000000</td>\n",
       "      <td>0.000000</td>\n",
       "    </tr>\n",
       "    <tr>\n",
       "      <td>75%</td>\n",
       "      <td>21327.000000</td>\n",
       "      <td>2.000000</td>\n",
       "      <td>170.000000</td>\n",
       "      <td>82.000000</td>\n",
       "      <td>140.000000</td>\n",
       "      <td>90.000000</td>\n",
       "      <td>2.000000</td>\n",
       "      <td>1.000000</td>\n",
       "      <td>0.000000</td>\n",
       "      <td>0.000000</td>\n",
       "      <td>1.000000</td>\n",
       "      <td>1.000000</td>\n",
       "    </tr>\n",
       "    <tr>\n",
       "      <td>max</td>\n",
       "      <td>23713.000000</td>\n",
       "      <td>2.000000</td>\n",
       "      <td>250.000000</td>\n",
       "      <td>200.000000</td>\n",
       "      <td>16020.000000</td>\n",
       "      <td>11000.000000</td>\n",
       "      <td>3.000000</td>\n",
       "      <td>3.000000</td>\n",
       "      <td>1.000000</td>\n",
       "      <td>1.000000</td>\n",
       "      <td>1.000000</td>\n",
       "      <td>1.000000</td>\n",
       "    </tr>\n",
       "  </tbody>\n",
       "</table>\n",
       "</div>"
      ],
      "text/plain": [
       "                age        gender        height        weight         ap_hi  \\\n",
       "count  69976.000000  69976.000000  69976.000000  69976.000000  69976.000000   \n",
       "mean   19468.950126      1.349648    164.359152     74.208519    128.820453   \n",
       "std     2467.374620      0.476862      8.211218     14.397211    154.037729   \n",
       "min    10798.000000      1.000000     55.000000     10.000000   -150.000000   \n",
       "25%    17664.000000      1.000000    159.000000     65.000000    120.000000   \n",
       "50%    19703.000000      1.000000    165.000000     72.000000    120.000000   \n",
       "75%    21327.000000      2.000000    170.000000     82.000000    140.000000   \n",
       "max    23713.000000      2.000000    250.000000    200.000000  16020.000000   \n",
       "\n",
       "              ap_lo   cholesterol          gluc         smoke          alco  \\\n",
       "count  69976.000000  69976.000000  69976.000000  69976.000000  69976.000000   \n",
       "mean      96.636261      1.366997      1.226535      0.088159      0.053790   \n",
       "std      188.504581      0.680333      0.572353      0.283528      0.225604   \n",
       "min      -70.000000      1.000000      1.000000      0.000000      0.000000   \n",
       "25%       80.000000      1.000000      1.000000      0.000000      0.000000   \n",
       "50%       80.000000      1.000000      1.000000      0.000000      0.000000   \n",
       "75%       90.000000      2.000000      1.000000      0.000000      0.000000   \n",
       "max    11000.000000      3.000000      3.000000      1.000000      1.000000   \n",
       "\n",
       "             active        cardio  \n",
       "count  69976.000000  69976.000000  \n",
       "mean       0.803718      0.499771  \n",
       "std        0.397187      0.500004  \n",
       "min        0.000000      0.000000  \n",
       "25%        1.000000      0.000000  \n",
       "50%        1.000000      0.000000  \n",
       "75%        1.000000      1.000000  \n",
       "max        1.000000      1.000000  "
      ]
     },
     "execution_count": 8,
     "metadata": {},
     "output_type": "execute_result"
    },
    {
     "data": {
      "image/png": "[encoded data removed]",
      "text/plain": [
       "<Figure size 1080x1080 with 1 Axes>"
      ]
     },
     "metadata": {
      "needs_background": "light"
     },
     "output_type": "display_data"
    }
   ],
   "source": [
    "#are there any outliers in the dataset?\n",
    "\n",
    "#boxplot of all the varibles\n",
    "plt.figure(figsize=(15, 15))\n",
    "ax = df.boxplot()\n",
    "ax.set_yscale('log')\n",
    "\n",
    "df.describe()\n"
   ]
  },
  {
   "cell_type": "markdown",
   "metadata": {},
   "source": [
    "From the simple statistical information and the boxplots above, we can easily see that there are some incorrect data points there. For example, the blood pressure has negative readings and the maximum readings for both Systolic blood pressure (ap_hi) and Diastolic blood pressure (ap_lo) are over 10,000, which are obviously mistakes. "
   ]
  },
  {
   "cell_type": "code",
   "execution_count": 9,
   "metadata": {},
   "outputs": [
    {
     "data": {
      "text/plain": [
       "(66169, 12)"
      ]
     },
     "execution_count": 9,
     "metadata": {},
     "output_type": "execute_result"
    }
   ],
   "source": [
    "#to only keep the entries between 97.5% quantile and 2.5% quantile for ap_hi and ap_lo\n",
    "df.drop(df[(df['ap_hi'] > df['ap_hi'].quantile(0.975)) | (df['ap_hi'] < df['ap_hi'].quantile(0.025))].index,inplace=True)\n",
    "df.drop(df[(df['ap_lo'] > df['ap_lo'].quantile(0.975)) | (df['ap_lo'] < df['ap_lo'].quantile(0.025))].index,inplace=True)\n",
    "df.shape"
   ]
  },
  {
   "cell_type": "code",
   "execution_count": 10,
   "metadata": {},
   "outputs": [
    {
     "name": "stdout",
     "output_type": "stream",
     "text": [
      "(66169, 12)\n",
      "Diastilic pressure is higher than systolic one in 0 cases\n"
     ]
    }
   ],
   "source": [
    "#to find how many rows where the Diastilic pressure is higher than systolic one, which is obviously impossible in reality.\n",
    "print(df.shape)\n",
    "print(\"Diastilic pressure is higher than systolic one in {0} cases\".format(df[df['ap_lo']> df['ap_hi']].shape[0]))"
   ]
  },
  {
   "cell_type": "markdown",
   "metadata": {},
   "source": [
    "Therefore, after cleaning the data for ap_hi and ap_lo should make sense now. let's plot the boxplot again for these two."
   ]
  },
  {
   "cell_type": "code",
   "execution_count": 11,
   "metadata": {},
   "outputs": [
    {
     "name": "stdout",
     "output_type": "stream",
     "text": [
      "After cleaning Diastilic pressure is higher than systolic one in 0 cases.\n"
     ]
    },
    {
     "data": {
      "image/png": "[encoded data removed]",
      "text/plain": [
       "<Figure size 432x288 with 1 Axes>"
      ]
     },
     "metadata": {
      "needs_background": "light"
     },
     "output_type": "display_data"
    }
   ],
   "source": [
    "blood_pressure = df.loc[:,['ap_lo','ap_hi']]\n",
    "sns.boxplot(x = 'variable',y = 'value',data = blood_pressure.melt())\n",
    "print(\"After cleaning Diastilic pressure is higher than systolic one in {0} cases.\".format(df[df['ap_lo']> df['ap_hi']].shape[0]))"
   ]
  },
  {
   "cell_type": "markdown",
   "metadata": {},
   "source": [
    "We also notice that there are some abnormal values in column \"weight\". The minimum weight is 10 kg and maximum 200 kg. Obviously these values are outliers as they don't represent the values for normal people. So we decided to remove these by only keeping the vaues from 2.5 to 97.5 percentile range. "
   ]
  },
  {
   "cell_type": "code",
   "execution_count": 12,
   "metadata": {},
   "outputs": [
    {
     "name": "stdout",
     "output_type": "stream",
     "text": [
      "(63055, 12)\n"
     ]
    }
   ],
   "source": [
    "df.drop(df[(df['weight'] > df['weight'].quantile(0.975)) | (df['weight'] < df['weight'].quantile(0.025))].index,inplace=True)\n",
    "\n",
    "print(df.shape)"
   ]
  },
  {
   "cell_type": "code",
   "execution_count": 13,
   "metadata": {},
   "outputs": [
    {
     "data": {
      "text/plain": [
       "<matplotlib.axes._subplots.AxesSubplot at 0x26f55ac5240>"
      ]
     },
     "execution_count": 13,
     "metadata": {},
     "output_type": "execute_result"
    },
    {
     "data": {
      "image/png": "[encoded data removed]",
      "text/plain": [
       "<Figure size 432x288 with 1 Axes>"
      ]
     },
     "metadata": {
      "needs_background": "light"
     },
     "output_type": "display_data"
    }
   ],
   "source": [
    "#boxplot to see the distribution of \"weight\"\n",
    "sns.boxplot(data = df[\"weight\"])"
   ]
  },
  {
   "cell_type": "markdown",
   "metadata": {},
   "source": [
    "After cleaning the data entries for ap_hi, ap_lo and weight, the data is ready for exploration."
   ]
  },
  {
   "cell_type": "markdown",
   "metadata": {},
   "source": [
    "### Simple Statistics"
   ]
  },
  {
   "cell_type": "markdown",
   "metadata": {},
   "source": [
    "We can now start to look at some simple statistics for the numeric values in the data set."
   ]
  },
  {
   "cell_type": "code",
   "execution_count": 14,
   "metadata": {},
   "outputs": [
    {
     "name": "stdout",
     "output_type": "stream",
     "text": [
      "<class 'pandas.core.frame.DataFrame'>\n",
      "Int64Index: 63055 entries, 0 to 69999\n",
      "Data columns (total 12 columns):\n",
      "age            63055 non-null int64\n",
      "gender         63055 non-null int64\n",
      "height         63055 non-null int64\n",
      "weight         63055 non-null float64\n",
      "ap_hi          63055 non-null int64\n",
      "ap_lo          63055 non-null int64\n",
      "cholesterol    63055 non-null int64\n",
      "gluc           63055 non-null int64\n",
      "smoke          63055 non-null int64\n",
      "alco           63055 non-null int64\n",
      "active         63055 non-null int64\n",
      "cardio         63055 non-null int64\n",
      "dtypes: float64(1), int64(11)\n",
      "memory usage: 8.8 MB\n"
     ]
    },
    {
     "data": {
      "text/html": [
       "<div>\n",
       "<style scoped>\n",
       "    .dataframe tbody tr th:only-of-type {\n",
       "        vertical-align: middle;\n",
       "    }\n",
       "\n",
       "    .dataframe tbody tr th {\n",
       "        vertical-align: top;\n",
       "    }\n",
       "\n",
       "    .dataframe thead th {\n",
       "        text-align: right;\n",
       "    }\n",
       "</style>\n",
       "<table border=\"1\" class=\"dataframe\">\n",
       "  <thead>\n",
       "    <tr style=\"text-align: right;\">\n",
       "      <th></th>\n",
       "      <th>age</th>\n",
       "      <th>gender</th>\n",
       "      <th>height</th>\n",
       "      <th>weight</th>\n",
       "      <th>ap_hi</th>\n",
       "      <th>ap_lo</th>\n",
       "      <th>cholesterol</th>\n",
       "      <th>gluc</th>\n",
       "      <th>smoke</th>\n",
       "      <th>alco</th>\n",
       "      <th>active</th>\n",
       "      <th>cardio</th>\n",
       "    </tr>\n",
       "  </thead>\n",
       "  <tbody>\n",
       "    <tr>\n",
       "      <td>count</td>\n",
       "      <td>63055.000000</td>\n",
       "      <td>63055.000000</td>\n",
       "      <td>63055.000000</td>\n",
       "      <td>63055.000000</td>\n",
       "      <td>63055.000000</td>\n",
       "      <td>63055.000000</td>\n",
       "      <td>63055.000000</td>\n",
       "      <td>63055.000000</td>\n",
       "      <td>63055.000000</td>\n",
       "      <td>63055.000000</td>\n",
       "      <td>63055.000000</td>\n",
       "      <td>63055.000000</td>\n",
       "    </tr>\n",
       "    <tr>\n",
       "      <td>mean</td>\n",
       "      <td>19482.116676</td>\n",
       "      <td>1.352756</td>\n",
       "      <td>164.546586</td>\n",
       "      <td>73.660693</td>\n",
       "      <td>126.212243</td>\n",
       "      <td>81.182016</td>\n",
       "      <td>1.355896</td>\n",
       "      <td>1.220633</td>\n",
       "      <td>0.087019</td>\n",
       "      <td>0.052779</td>\n",
       "      <td>0.803505</td>\n",
       "      <td>0.492998</td>\n",
       "    </tr>\n",
       "    <tr>\n",
       "      <td>std</td>\n",
       "      <td>2461.400396</td>\n",
       "      <td>0.477831</td>\n",
       "      <td>7.970448</td>\n",
       "      <td>11.816099</td>\n",
       "      <td>14.318266</td>\n",
       "      <td>8.334357</td>\n",
       "      <td>0.673440</td>\n",
       "      <td>0.567579</td>\n",
       "      <td>0.281866</td>\n",
       "      <td>0.223594</td>\n",
       "      <td>0.397350</td>\n",
       "      <td>0.499955</td>\n",
       "    </tr>\n",
       "    <tr>\n",
       "      <td>min</td>\n",
       "      <td>10798.000000</td>\n",
       "      <td>1.000000</td>\n",
       "      <td>55.000000</td>\n",
       "      <td>52.000000</td>\n",
       "      <td>100.000000</td>\n",
       "      <td>60.000000</td>\n",
       "      <td>1.000000</td>\n",
       "      <td>1.000000</td>\n",
       "      <td>0.000000</td>\n",
       "      <td>0.000000</td>\n",
       "      <td>0.000000</td>\n",
       "      <td>0.000000</td>\n",
       "    </tr>\n",
       "    <tr>\n",
       "      <td>25%</td>\n",
       "      <td>17698.000000</td>\n",
       "      <td>1.000000</td>\n",
       "      <td>159.000000</td>\n",
       "      <td>65.000000</td>\n",
       "      <td>120.000000</td>\n",
       "      <td>80.000000</td>\n",
       "      <td>1.000000</td>\n",
       "      <td>1.000000</td>\n",
       "      <td>0.000000</td>\n",
       "      <td>0.000000</td>\n",
       "      <td>1.000000</td>\n",
       "      <td>0.000000</td>\n",
       "    </tr>\n",
       "    <tr>\n",
       "      <td>50%</td>\n",
       "      <td>19711.000000</td>\n",
       "      <td>1.000000</td>\n",
       "      <td>165.000000</td>\n",
       "      <td>72.000000</td>\n",
       "      <td>120.000000</td>\n",
       "      <td>80.000000</td>\n",
       "      <td>1.000000</td>\n",
       "      <td>1.000000</td>\n",
       "      <td>0.000000</td>\n",
       "      <td>0.000000</td>\n",
       "      <td>1.000000</td>\n",
       "      <td>0.000000</td>\n",
       "    </tr>\n",
       "    <tr>\n",
       "      <td>75%</td>\n",
       "      <td>21333.000000</td>\n",
       "      <td>2.000000</td>\n",
       "      <td>170.000000</td>\n",
       "      <td>81.000000</td>\n",
       "      <td>140.000000</td>\n",
       "      <td>90.000000</td>\n",
       "      <td>1.000000</td>\n",
       "      <td>1.000000</td>\n",
       "      <td>0.000000</td>\n",
       "      <td>0.000000</td>\n",
       "      <td>1.000000</td>\n",
       "      <td>1.000000</td>\n",
       "    </tr>\n",
       "    <tr>\n",
       "      <td>max</td>\n",
       "      <td>23713.000000</td>\n",
       "      <td>2.000000</td>\n",
       "      <td>250.000000</td>\n",
       "      <td>107.000000</td>\n",
       "      <td>170.000000</td>\n",
       "      <td>100.000000</td>\n",
       "      <td>3.000000</td>\n",
       "      <td>3.000000</td>\n",
       "      <td>1.000000</td>\n",
       "      <td>1.000000</td>\n",
       "      <td>1.000000</td>\n",
       "      <td>1.000000</td>\n",
       "    </tr>\n",
       "  </tbody>\n",
       "</table>\n",
       "</div>"
      ],
      "text/plain": [
       "                age        gender        height        weight         ap_hi  \\\n",
       "count  63055.000000  63055.000000  63055.000000  63055.000000  63055.000000   \n",
       "mean   19482.116676      1.352756    164.546586     73.660693    126.212243   \n",
       "std     2461.400396      0.477831      7.970448     11.816099     14.318266   \n",
       "min    10798.000000      1.000000     55.000000     52.000000    100.000000   \n",
       "25%    17698.000000      1.000000    159.000000     65.000000    120.000000   \n",
       "50%    19711.000000      1.000000    165.000000     72.000000    120.000000   \n",
       "75%    21333.000000      2.000000    170.000000     81.000000    140.000000   \n",
       "max    23713.000000      2.000000    250.000000    107.000000    170.000000   \n",
       "\n",
       "              ap_lo   cholesterol          gluc         smoke          alco  \\\n",
       "count  63055.000000  63055.000000  63055.000000  63055.000000  63055.000000   \n",
       "mean      81.182016      1.355896      1.220633      0.087019      0.052779   \n",
       "std        8.334357      0.673440      0.567579      0.281866      0.223594   \n",
       "min       60.000000      1.000000      1.000000      0.000000      0.000000   \n",
       "25%       80.000000      1.000000      1.000000      0.000000      0.000000   \n",
       "50%       80.000000      1.000000      1.000000      0.000000      0.000000   \n",
       "75%       90.000000      1.000000      1.000000      0.000000      0.000000   \n",
       "max      100.000000      3.000000      3.000000      1.000000      1.000000   \n",
       "\n",
       "             active        cardio  \n",
       "count  63055.000000  63055.000000  \n",
       "mean       0.803505      0.492998  \n",
       "std        0.397350      0.499955  \n",
       "min        0.000000      0.000000  \n",
       "25%        1.000000      0.000000  \n",
       "50%        1.000000      0.000000  \n",
       "75%        1.000000      1.000000  \n",
       "max        1.000000      1.000000  "
      ]
     },
     "execution_count": 14,
     "metadata": {},
     "output_type": "execute_result"
    }
   ],
   "source": [
    "#A summary of the dataframe\n",
    "df.info()\n",
    "#Stats of ordinal and continous data\n",
    "df.describe()"
   ]
  },
  {
   "cell_type": "markdown",
   "metadata": {},
   "source": [
    "The count, mean, std vlaues for each variable are shown in above table. "
   ]
  },
  {
   "cell_type": "markdown",
   "metadata": {},
   "source": [
    "The interesting things we can find from above table are that: 1) the mean height being 164 cm suggests that the dataset was unlikely generated from US or Europe, as people from these regions are generally taller than 170 cm. 2) The mean values of ap_hi and ap_lo are 126 and 81, respectively. These values are quite reasonable for Systolic blood pressure and Diastolic blood pressure."
   ]
  },
  {
   "cell_type": "markdown",
   "metadata": {},
   "source": [
    "How do the statistics look like for different genders (1 and 2)? Which levels are for female and male, respectively? "
   ]
  },
  {
   "cell_type": "code",
   "execution_count": 15,
   "metadata": {},
   "outputs": [
    {
     "data": {
      "text/html": [
       "<div>\n",
       "<style scoped>\n",
       "    .dataframe tbody tr th:only-of-type {\n",
       "        vertical-align: middle;\n",
       "    }\n",
       "\n",
       "    .dataframe tbody tr th {\n",
       "        vertical-align: top;\n",
       "    }\n",
       "\n",
       "    .dataframe thead th {\n",
       "        text-align: right;\n",
       "    }\n",
       "</style>\n",
       "<table border=\"1\" class=\"dataframe\">\n",
       "  <thead>\n",
       "    <tr style=\"text-align: right;\">\n",
       "      <th></th>\n",
       "      <th>age</th>\n",
       "      <th>gender</th>\n",
       "      <th>height</th>\n",
       "      <th>weight</th>\n",
       "      <th>ap_hi</th>\n",
       "      <th>ap_lo</th>\n",
       "      <th>cholesterol</th>\n",
       "      <th>gluc</th>\n",
       "      <th>smoke</th>\n",
       "      <th>alco</th>\n",
       "      <th>active</th>\n",
       "      <th>cardio</th>\n",
       "    </tr>\n",
       "  </thead>\n",
       "  <tbody>\n",
       "    <tr>\n",
       "      <td>count</td>\n",
       "      <td>40812.000000</td>\n",
       "      <td>40812.0</td>\n",
       "      <td>40812.000000</td>\n",
       "      <td>40812.000000</td>\n",
       "      <td>40812.000000</td>\n",
       "      <td>40812.000000</td>\n",
       "      <td>40812.000000</td>\n",
       "      <td>40812.000000</td>\n",
       "      <td>40812.000000</td>\n",
       "      <td>40812.000000</td>\n",
       "      <td>40812.000000</td>\n",
       "      <td>40812.000000</td>\n",
       "    </tr>\n",
       "    <tr>\n",
       "      <td>mean</td>\n",
       "      <td>19539.196927</td>\n",
       "      <td>1.0</td>\n",
       "      <td>161.662330</td>\n",
       "      <td>72.350592</td>\n",
       "      <td>125.780138</td>\n",
       "      <td>80.888121</td>\n",
       "      <td>1.377879</td>\n",
       "      <td>1.231746</td>\n",
       "      <td>0.016760</td>\n",
       "      <td>0.024870</td>\n",
       "      <td>0.801897</td>\n",
       "      <td>0.495614</td>\n",
       "    </tr>\n",
       "    <tr>\n",
       "      <td>std</td>\n",
       "      <td>2418.675328</td>\n",
       "      <td>0.0</td>\n",
       "      <td>6.898025</td>\n",
       "      <td>11.690820</td>\n",
       "      <td>14.424434</td>\n",
       "      <td>8.401162</td>\n",
       "      <td>0.689969</td>\n",
       "      <td>0.581168</td>\n",
       "      <td>0.128372</td>\n",
       "      <td>0.155731</td>\n",
       "      <td>0.398575</td>\n",
       "      <td>0.499987</td>\n",
       "    </tr>\n",
       "    <tr>\n",
       "      <td>min</td>\n",
       "      <td>10859.000000</td>\n",
       "      <td>1.0</td>\n",
       "      <td>55.000000</td>\n",
       "      <td>52.000000</td>\n",
       "      <td>100.000000</td>\n",
       "      <td>60.000000</td>\n",
       "      <td>1.000000</td>\n",
       "      <td>1.000000</td>\n",
       "      <td>0.000000</td>\n",
       "      <td>0.000000</td>\n",
       "      <td>0.000000</td>\n",
       "      <td>0.000000</td>\n",
       "    </tr>\n",
       "    <tr>\n",
       "      <td>25%</td>\n",
       "      <td>18079.000000</td>\n",
       "      <td>1.0</td>\n",
       "      <td>157.000000</td>\n",
       "      <td>64.000000</td>\n",
       "      <td>120.000000</td>\n",
       "      <td>80.000000</td>\n",
       "      <td>1.000000</td>\n",
       "      <td>1.000000</td>\n",
       "      <td>0.000000</td>\n",
       "      <td>0.000000</td>\n",
       "      <td>1.000000</td>\n",
       "      <td>0.000000</td>\n",
       "    </tr>\n",
       "    <tr>\n",
       "      <td>50%</td>\n",
       "      <td>19743.000000</td>\n",
       "      <td>1.0</td>\n",
       "      <td>162.000000</td>\n",
       "      <td>70.000000</td>\n",
       "      <td>120.000000</td>\n",
       "      <td>80.000000</td>\n",
       "      <td>1.000000</td>\n",
       "      <td>1.000000</td>\n",
       "      <td>0.000000</td>\n",
       "      <td>0.000000</td>\n",
       "      <td>1.000000</td>\n",
       "      <td>0.000000</td>\n",
       "    </tr>\n",
       "    <tr>\n",
       "      <td>75%</td>\n",
       "      <td>21343.250000</td>\n",
       "      <td>1.0</td>\n",
       "      <td>166.000000</td>\n",
       "      <td>80.000000</td>\n",
       "      <td>140.000000</td>\n",
       "      <td>90.000000</td>\n",
       "      <td>2.000000</td>\n",
       "      <td>1.000000</td>\n",
       "      <td>0.000000</td>\n",
       "      <td>0.000000</td>\n",
       "      <td>1.000000</td>\n",
       "      <td>1.000000</td>\n",
       "    </tr>\n",
       "    <tr>\n",
       "      <td>max</td>\n",
       "      <td>23701.000000</td>\n",
       "      <td>1.0</td>\n",
       "      <td>250.000000</td>\n",
       "      <td>107.000000</td>\n",
       "      <td>170.000000</td>\n",
       "      <td>100.000000</td>\n",
       "      <td>3.000000</td>\n",
       "      <td>3.000000</td>\n",
       "      <td>1.000000</td>\n",
       "      <td>1.000000</td>\n",
       "      <td>1.000000</td>\n",
       "      <td>1.000000</td>\n",
       "    </tr>\n",
       "  </tbody>\n",
       "</table>\n",
       "</div>"
      ],
      "text/plain": [
       "                age   gender        height        weight         ap_hi  \\\n",
       "count  40812.000000  40812.0  40812.000000  40812.000000  40812.000000   \n",
       "mean   19539.196927      1.0    161.662330     72.350592    125.780138   \n",
       "std     2418.675328      0.0      6.898025     11.690820     14.424434   \n",
       "min    10859.000000      1.0     55.000000     52.000000    100.000000   \n",
       "25%    18079.000000      1.0    157.000000     64.000000    120.000000   \n",
       "50%    19743.000000      1.0    162.000000     70.000000    120.000000   \n",
       "75%    21343.250000      1.0    166.000000     80.000000    140.000000   \n",
       "max    23701.000000      1.0    250.000000    107.000000    170.000000   \n",
       "\n",
       "              ap_lo   cholesterol          gluc         smoke          alco  \\\n",
       "count  40812.000000  40812.000000  40812.000000  40812.000000  40812.000000   \n",
       "mean      80.888121      1.377879      1.231746      0.016760      0.024870   \n",
       "std        8.401162      0.689969      0.581168      0.128372      0.155731   \n",
       "min       60.000000      1.000000      1.000000      0.000000      0.000000   \n",
       "25%       80.000000      1.000000      1.000000      0.000000      0.000000   \n",
       "50%       80.000000      1.000000      1.000000      0.000000      0.000000   \n",
       "75%       90.000000      2.000000      1.000000      0.000000      0.000000   \n",
       "max      100.000000      3.000000      3.000000      1.000000      1.000000   \n",
       "\n",
       "             active        cardio  \n",
       "count  40812.000000  40812.000000  \n",
       "mean       0.801897      0.495614  \n",
       "std        0.398575      0.499987  \n",
       "min        0.000000      0.000000  \n",
       "25%        1.000000      0.000000  \n",
       "50%        1.000000      0.000000  \n",
       "75%        1.000000      1.000000  \n",
       "max        1.000000      1.000000  "
      ]
     },
     "execution_count": 15,
     "metadata": {},
     "output_type": "execute_result"
    }
   ],
   "source": [
    "df[df.gender == 1].describe()"
   ]
  },
  {
   "cell_type": "code",
   "execution_count": 16,
   "metadata": {},
   "outputs": [
    {
     "data": {
      "text/html": [
       "<div>\n",
       "<style scoped>\n",
       "    .dataframe tbody tr th:only-of-type {\n",
       "        vertical-align: middle;\n",
       "    }\n",
       "\n",
       "    .dataframe tbody tr th {\n",
       "        vertical-align: top;\n",
       "    }\n",
       "\n",
       "    .dataframe thead th {\n",
       "        text-align: right;\n",
       "    }\n",
       "</style>\n",
       "<table border=\"1\" class=\"dataframe\">\n",
       "  <thead>\n",
       "    <tr style=\"text-align: right;\">\n",
       "      <th></th>\n",
       "      <th>age</th>\n",
       "      <th>gender</th>\n",
       "      <th>height</th>\n",
       "      <th>weight</th>\n",
       "      <th>ap_hi</th>\n",
       "      <th>ap_lo</th>\n",
       "      <th>cholesterol</th>\n",
       "      <th>gluc</th>\n",
       "      <th>smoke</th>\n",
       "      <th>alco</th>\n",
       "      <th>active</th>\n",
       "      <th>cardio</th>\n",
       "    </tr>\n",
       "  </thead>\n",
       "  <tbody>\n",
       "    <tr>\n",
       "      <td>count</td>\n",
       "      <td>22243.000000</td>\n",
       "      <td>22243.0</td>\n",
       "      <td>22243.000000</td>\n",
       "      <td>22243.000000</td>\n",
       "      <td>22243.000000</td>\n",
       "      <td>22243.000000</td>\n",
       "      <td>22243.000000</td>\n",
       "      <td>22243.000000</td>\n",
       "      <td>22243.000000</td>\n",
       "      <td>22243.000000</td>\n",
       "      <td>22243.000000</td>\n",
       "      <td>22243.000000</td>\n",
       "    </tr>\n",
       "    <tr>\n",
       "      <td>mean</td>\n",
       "      <td>19377.384436</td>\n",
       "      <td>2.0</td>\n",
       "      <td>169.838691</td>\n",
       "      <td>76.064497</td>\n",
       "      <td>127.005080</td>\n",
       "      <td>81.721261</td>\n",
       "      <td>1.315560</td>\n",
       "      <td>1.200243</td>\n",
       "      <td>0.215933</td>\n",
       "      <td>0.103988</td>\n",
       "      <td>0.806456</td>\n",
       "      <td>0.488199</td>\n",
       "    </tr>\n",
       "    <tr>\n",
       "      <td>std</td>\n",
       "      <td>2534.637677</td>\n",
       "      <td>0.0</td>\n",
       "      <td>7.036775</td>\n",
       "      <td>11.666279</td>\n",
       "      <td>14.087282</td>\n",
       "      <td>8.183149</td>\n",
       "      <td>0.640062</td>\n",
       "      <td>0.541179</td>\n",
       "      <td>0.411477</td>\n",
       "      <td>0.305252</td>\n",
       "      <td>0.395084</td>\n",
       "      <td>0.499872</td>\n",
       "    </tr>\n",
       "    <tr>\n",
       "      <td>min</td>\n",
       "      <td>10798.000000</td>\n",
       "      <td>2.0</td>\n",
       "      <td>65.000000</td>\n",
       "      <td>52.000000</td>\n",
       "      <td>100.000000</td>\n",
       "      <td>60.000000</td>\n",
       "      <td>1.000000</td>\n",
       "      <td>1.000000</td>\n",
       "      <td>0.000000</td>\n",
       "      <td>0.000000</td>\n",
       "      <td>0.000000</td>\n",
       "      <td>0.000000</td>\n",
       "    </tr>\n",
       "    <tr>\n",
       "      <td>25%</td>\n",
       "      <td>17490.000000</td>\n",
       "      <td>2.0</td>\n",
       "      <td>165.000000</td>\n",
       "      <td>68.000000</td>\n",
       "      <td>120.000000</td>\n",
       "      <td>80.000000</td>\n",
       "      <td>1.000000</td>\n",
       "      <td>1.000000</td>\n",
       "      <td>0.000000</td>\n",
       "      <td>0.000000</td>\n",
       "      <td>1.000000</td>\n",
       "      <td>0.000000</td>\n",
       "    </tr>\n",
       "    <tr>\n",
       "      <td>50%</td>\n",
       "      <td>19647.000000</td>\n",
       "      <td>2.0</td>\n",
       "      <td>170.000000</td>\n",
       "      <td>75.000000</td>\n",
       "      <td>120.000000</td>\n",
       "      <td>80.000000</td>\n",
       "      <td>1.000000</td>\n",
       "      <td>1.000000</td>\n",
       "      <td>0.000000</td>\n",
       "      <td>0.000000</td>\n",
       "      <td>1.000000</td>\n",
       "      <td>0.000000</td>\n",
       "    </tr>\n",
       "    <tr>\n",
       "      <td>75%</td>\n",
       "      <td>21317.000000</td>\n",
       "      <td>2.0</td>\n",
       "      <td>174.000000</td>\n",
       "      <td>84.000000</td>\n",
       "      <td>140.000000</td>\n",
       "      <td>90.000000</td>\n",
       "      <td>1.000000</td>\n",
       "      <td>1.000000</td>\n",
       "      <td>0.000000</td>\n",
       "      <td>0.000000</td>\n",
       "      <td>1.000000</td>\n",
       "      <td>1.000000</td>\n",
       "    </tr>\n",
       "    <tr>\n",
       "      <td>max</td>\n",
       "      <td>23713.000000</td>\n",
       "      <td>2.0</td>\n",
       "      <td>207.000000</td>\n",
       "      <td>107.000000</td>\n",
       "      <td>170.000000</td>\n",
       "      <td>100.000000</td>\n",
       "      <td>3.000000</td>\n",
       "      <td>3.000000</td>\n",
       "      <td>1.000000</td>\n",
       "      <td>1.000000</td>\n",
       "      <td>1.000000</td>\n",
       "      <td>1.000000</td>\n",
       "    </tr>\n",
       "  </tbody>\n",
       "</table>\n",
       "</div>"
      ],
      "text/plain": [
       "                age   gender        height        weight         ap_hi  \\\n",
       "count  22243.000000  22243.0  22243.000000  22243.000000  22243.000000   \n",
       "mean   19377.384436      2.0    169.838691     76.064497    127.005080   \n",
       "std     2534.637677      0.0      7.036775     11.666279     14.087282   \n",
       "min    10798.000000      2.0     65.000000     52.000000    100.000000   \n",
       "25%    17490.000000      2.0    165.000000     68.000000    120.000000   \n",
       "50%    19647.000000      2.0    170.000000     75.000000    120.000000   \n",
       "75%    21317.000000      2.0    174.000000     84.000000    140.000000   \n",
       "max    23713.000000      2.0    207.000000    107.000000    170.000000   \n",
       "\n",
       "              ap_lo   cholesterol          gluc         smoke          alco  \\\n",
       "count  22243.000000  22243.000000  22243.000000  22243.000000  22243.000000   \n",
       "mean      81.721261      1.315560      1.200243      0.215933      0.103988   \n",
       "std        8.183149      0.640062      0.541179      0.411477      0.305252   \n",
       "min       60.000000      1.000000      1.000000      0.000000      0.000000   \n",
       "25%       80.000000      1.000000      1.000000      0.000000      0.000000   \n",
       "50%       80.000000      1.000000      1.000000      0.000000      0.000000   \n",
       "75%       90.000000      1.000000      1.000000      0.000000      0.000000   \n",
       "max      100.000000      3.000000      3.000000      1.000000      1.000000   \n",
       "\n",
       "             active        cardio  \n",
       "count  22243.000000  22243.000000  \n",
       "mean       0.806456      0.488199  \n",
       "std        0.395084      0.499872  \n",
       "min        0.000000      0.000000  \n",
       "25%        1.000000      0.000000  \n",
       "50%        1.000000      0.000000  \n",
       "75%        1.000000      1.000000  \n",
       "max        1.000000      1.000000  "
      ]
     },
     "execution_count": 16,
     "metadata": {},
     "output_type": "execute_result"
    }
   ],
   "source": [
    "df[df.gender == 2].describe()"
   ]
  },
  {
   "cell_type": "markdown",
   "metadata": {},
   "source": [
    "We assume that men are taller than women on average. Therefore, the level 1 stands for female and level 2 for male since the mean height for level 1 is 162 cm, for level 2 is 170 cm. Furthermore, we noticed that more men are smoking and drinking alcohol (mean values of smoke and alco for men are 0.22 and 0.10 to 0.02 and 0.02 for wemen). Also, we realized that the number of female is almost two times the number of male.  We will look at this later at \"the exceptional work\" part."
   ]
  },
  {
   "cell_type": "markdown",
   "metadata": {},
   "source": [
    "### Data Visualization for Important Attributes"
   ]
  },
  {
   "cell_type": "code",
   "execution_count": 17,
   "metadata": {},
   "outputs": [
    {
     "data": {
      "image/png": "[encoded data removed]",
      "text/plain": [
       "<Figure size 720x720 with 1 Axes>"
      ]
     },
     "metadata": {
      "needs_background": "light"
     },
     "output_type": "display_data"
    }
   ],
   "source": [
    "#Let's look at categorical variables in the dataset and their distribution\n",
    "plt.figure(figsize=(10, 10))\n",
    "df_categorical = df.loc[:,['gender','cholesterol','gluc', 'smoke', 'alco', 'active','cardio']]\n",
    "sns.countplot(x=\"variable\", hue=\"value\",data= pd.melt(df_categorical));\n"
   ]
  },
  {
   "cell_type": "markdown",
   "metadata": {},
   "source": [
    "We can tell that female and male patients are not equally represented, with 2/3 belonging to one gender. For other categorical variables except cardio, it appears that there is always one type being dominant. For example, the level 0 in alco or smoke variable is the main type in the dataset. For cardio, the number of having disease is almost equal to the number of not having disease."
   ]
  },
  {
   "cell_type": "code",
   "execution_count": 18,
   "metadata": {},
   "outputs": [
    {
     "data": {
      "text/html": [
       "<div>\n",
       "<style scoped>\n",
       "    .dataframe tbody tr th:only-of-type {\n",
       "        vertical-align: middle;\n",
       "    }\n",
       "\n",
       "    .dataframe tbody tr th {\n",
       "        vertical-align: top;\n",
       "    }\n",
       "\n",
       "    .dataframe thead th {\n",
       "        text-align: right;\n",
       "    }\n",
       "</style>\n",
       "<table border=\"1\" class=\"dataframe\">\n",
       "  <thead>\n",
       "    <tr style=\"text-align: right;\">\n",
       "      <th></th>\n",
       "      <th>age</th>\n",
       "      <th>gender</th>\n",
       "      <th>height</th>\n",
       "      <th>weight</th>\n",
       "      <th>ap_hi</th>\n",
       "      <th>ap_lo</th>\n",
       "      <th>cholesterol</th>\n",
       "      <th>gluc</th>\n",
       "      <th>smoke</th>\n",
       "      <th>alco</th>\n",
       "      <th>active</th>\n",
       "    </tr>\n",
       "    <tr>\n",
       "      <th>cardio</th>\n",
       "      <th></th>\n",
       "      <th></th>\n",
       "      <th></th>\n",
       "      <th></th>\n",
       "      <th></th>\n",
       "      <th></th>\n",
       "      <th></th>\n",
       "      <th></th>\n",
       "      <th></th>\n",
       "      <th></th>\n",
       "      <th></th>\n",
       "    </tr>\n",
       "  </thead>\n",
       "  <tbody>\n",
       "    <tr>\n",
       "      <td>0</td>\n",
       "      <td>19020</td>\n",
       "      <td>1</td>\n",
       "      <td>165</td>\n",
       "      <td>70.0</td>\n",
       "      <td>120</td>\n",
       "      <td>80</td>\n",
       "      <td>1</td>\n",
       "      <td>1</td>\n",
       "      <td>0</td>\n",
       "      <td>0</td>\n",
       "      <td>1</td>\n",
       "    </tr>\n",
       "    <tr>\n",
       "      <td>1</td>\n",
       "      <td>20397</td>\n",
       "      <td>1</td>\n",
       "      <td>165</td>\n",
       "      <td>74.0</td>\n",
       "      <td>130</td>\n",
       "      <td>80</td>\n",
       "      <td>1</td>\n",
       "      <td>1</td>\n",
       "      <td>0</td>\n",
       "      <td>0</td>\n",
       "      <td>1</td>\n",
       "    </tr>\n",
       "  </tbody>\n",
       "</table>\n",
       "</div>"
      ],
      "text/plain": [
       "          age  gender  height  weight  ap_hi  ap_lo  cholesterol  gluc  smoke  \\\n",
       "cardio                                                                          \n",
       "0       19020       1     165    70.0    120     80            1     1      0   \n",
       "1       20397       1     165    74.0    130     80            1     1      0   \n",
       "\n",
       "        alco  active  \n",
       "cardio                \n",
       "0          0       1  \n",
       "1          0       1  "
      ]
     },
     "execution_count": 18,
     "metadata": {},
     "output_type": "execute_result"
    }
   ],
   "source": [
    "#to find important attibutes in this study, we can examine the mean / median for each variable \n",
    "#of having disease or not having disease\n",
    "df.groupby(by='cardio').median()"
   ]
  },
  {
   "cell_type": "code",
   "execution_count": 19,
   "metadata": {},
   "outputs": [
    {
     "data": {
      "text/html": [
       "<div>\n",
       "<style scoped>\n",
       "    .dataframe tbody tr th:only-of-type {\n",
       "        vertical-align: middle;\n",
       "    }\n",
       "\n",
       "    .dataframe tbody tr th {\n",
       "        vertical-align: top;\n",
       "    }\n",
       "\n",
       "    .dataframe thead th {\n",
       "        text-align: right;\n",
       "    }\n",
       "</style>\n",
       "<table border=\"1\" class=\"dataframe\">\n",
       "  <thead>\n",
       "    <tr style=\"text-align: right;\">\n",
       "      <th></th>\n",
       "      <th>age</th>\n",
       "      <th>gender</th>\n",
       "      <th>height</th>\n",
       "      <th>weight</th>\n",
       "      <th>ap_hi</th>\n",
       "      <th>ap_lo</th>\n",
       "      <th>cholesterol</th>\n",
       "      <th>gluc</th>\n",
       "      <th>smoke</th>\n",
       "      <th>alco</th>\n",
       "      <th>active</th>\n",
       "    </tr>\n",
       "    <tr>\n",
       "      <th>cardio</th>\n",
       "      <th></th>\n",
       "      <th></th>\n",
       "      <th></th>\n",
       "      <th></th>\n",
       "      <th></th>\n",
       "      <th></th>\n",
       "      <th></th>\n",
       "      <th></th>\n",
       "      <th></th>\n",
       "      <th></th>\n",
       "      <th></th>\n",
       "    </tr>\n",
       "  </thead>\n",
       "  <tbody>\n",
       "    <tr>\n",
       "      <td>0</td>\n",
       "      <td>18904.104038</td>\n",
       "      <td>1.356095</td>\n",
       "      <td>164.807657</td>\n",
       "      <td>71.842974</td>\n",
       "      <td>120.156965</td>\n",
       "      <td>78.50965</td>\n",
       "      <td>1.211455</td>\n",
       "      <td>1.172542</td>\n",
       "      <td>0.093434</td>\n",
       "      <td>0.056086</td>\n",
       "      <td>0.818261</td>\n",
       "    </tr>\n",
       "    <tr>\n",
       "      <td>1</td>\n",
       "      <td>20076.547803</td>\n",
       "      <td>1.349321</td>\n",
       "      <td>164.278099</td>\n",
       "      <td>75.530043</td>\n",
       "      <td>132.439523</td>\n",
       "      <td>83.93029</td>\n",
       "      <td>1.504439</td>\n",
       "      <td>1.270089</td>\n",
       "      <td>0.080422</td>\n",
       "      <td>0.049379</td>\n",
       "      <td>0.788329</td>\n",
       "    </tr>\n",
       "  </tbody>\n",
       "</table>\n",
       "</div>"
      ],
      "text/plain": [
       "                 age    gender      height     weight       ap_hi     ap_lo  \\\n",
       "cardio                                                                        \n",
       "0       18904.104038  1.356095  164.807657  71.842974  120.156965  78.50965   \n",
       "1       20076.547803  1.349321  164.278099  75.530043  132.439523  83.93029   \n",
       "\n",
       "        cholesterol      gluc     smoke      alco    active  \n",
       "cardio                                                       \n",
       "0          1.211455  1.172542  0.093434  0.056086  0.818261  \n",
       "1          1.504439  1.270089  0.080422  0.049379  0.788329  "
      ]
     },
     "execution_count": 19,
     "metadata": {},
     "output_type": "execute_result"
    }
   ],
   "source": [
    "df.groupby(by='cardio').mean()"
   ]
  },
  {
   "cell_type": "markdown",
   "metadata": {},
   "source": [
    "Altough the median values didn't tell us much information about what attritutes are important, the mean values for some of the variables revealed something interesting. We can see that age, weight, ap_hi, ap_lo, cholesterol, gluc appear to have quite different values for having disease group and no-disese group. Other variables are not that much different from cardio of zero to one state. We use use boxplot or bargraph to show the effect.   "
   ]
  },
  {
   "cell_type": "code",
   "execution_count": 20,
   "metadata": {},
   "outputs": [
    {
     "data": {
      "text/plain": [
       "<matplotlib.axes._subplots.AxesSubplot at 0x26f56113a58>"
      ]
     },
     "execution_count": 20,
     "metadata": {},
     "output_type": "execute_result"
    },
    {
     "data": {
      "image/png": "[encoded data removed]",
      "text/plain": [
       "<Figure size 576x432 with 2 Axes>"
      ]
     },
     "metadata": {
      "needs_background": "light"
     },
     "output_type": "display_data"
    }
   ],
   "source": [
    "#investiate how age changes with cardio states\n",
    "#we want to check how the plot looks like when converting age from days to years\n",
    "df['years'] = (df['age'] / 365).round().astype('int')\n",
    "\n",
    "plt.figure(figsize=(8,6))\n",
    "plt.subplot(1,2,1)\n",
    "sns.boxplot(x='cardio',y='age',data=df,palette='spring')\n",
    "plt.subplot(1,2,2)\n",
    "sns.boxplot(x='cardio',y='years',data=df,palette='summer')"
   ]
  },
  {
   "cell_type": "markdown",
   "metadata": {},
   "source": [
    "It appears that the youngest age to start getting cardio is close to 40. To further investigate this, we can plot a bargraph to show how ratio of getting cardio is changing with ages. "
   ]
  },
  {
   "cell_type": "code",
   "execution_count": 21,
   "metadata": {},
   "outputs": [
    {
     "data": {
      "text/plain": [
       "<matplotlib.axes._subplots.AxesSubplot at 0x26f561340f0>"
      ]
     },
     "execution_count": 21,
     "metadata": {},
     "output_type": "execute_result"
    },
    {
     "data": {
      "image/png": "[encoded data removed]",
      "text/plain": [
       "<Figure size 720x720 with 1 Axes>"
      ]
     },
     "metadata": {
      "needs_background": "light"
     },
     "output_type": "display_data"
    }
   ],
   "source": [
    "plt.figure(figsize=(10, 10))\n",
    "sns.countplot(x='years', hue='cardio', data = df, palette=\"Set2\")"
   ]
  },
  {
   "cell_type": "code",
   "execution_count": 22,
   "metadata": {},
   "outputs": [
    {
     "data": {
      "text/plain": [
       "<matplotlib.axes._subplots.AxesSubplot at 0x26f50759a20>"
      ]
     },
     "execution_count": 22,
     "metadata": {},
     "output_type": "execute_result"
    },
    {
     "data": {
      "image/png": "[encoded data removed]",
      "text/plain": [
       "<Figure size 792x576 with 1 Axes>"
      ]
     },
     "metadata": {
      "needs_background": "light"
     },
     "output_type": "display_data"
    }
   ],
   "source": [
    "#plt.figure(figsize=(10, 10))\n",
    "from matplotlib import rcParams\n",
    "rcParams['figure.figsize'] = 11, 8\n",
    "\n",
    "cardio_value = pd.crosstab([df['years']], df.cardio.astype(bool))\n",
    "#print(cardio_value)\n",
    "#cardio_value.plot(kind = \"bar\", stacked= True)\n",
    "\n",
    "cardio_rate = cardio_value.div(cardio_value.sum(1).astype(float), axis=0) \n",
    "cardio_rate.plot(kind = 'bar', stacked = True)"
   ]
  },
  {
   "cell_type": "markdown",
   "metadata": {},
   "source": [
    "It can be observed from above 2 graphs that people over 55 of years old are more likely to have CVD."
   ]
  },
  {
   "cell_type": "code",
   "execution_count": 23,
   "metadata": {},
   "outputs": [
    {
     "data": {
      "text/plain": [
       "<matplotlib.axes._subplots.AxesSubplot at 0x26f568cf5f8>"
      ]
     },
     "execution_count": 23,
     "metadata": {},
     "output_type": "execute_result"
    },
    {
     "data": {
      "image/png": "[encoded data removed]",
      "text/plain": [
       "<Figure size 360x360 with 1 Axes>"
      ]
     },
     "metadata": {
      "needs_background": "light"
     },
     "output_type": "display_data"
    }
   ],
   "source": [
    "#investiate how weight change with cardio states\n",
    "#plt.figure(figsize=(10, 10))\n",
    "rcParams['figure.figsize'] = 5, 5\n",
    "\n",
    "sns.boxplot(x='cardio',y='weight',data=df)"
   ]
  },
  {
   "cell_type": "markdown",
   "metadata": {},
   "source": [
    "Obviously, the mean weight of patients having CVD is larger than that from no-CVD people. Because weight is related to height and other factors, so it is not appropriate to draw a simple conclusion about a relationship between weight and CVD before counting for other factors."
   ]
  },
  {
   "cell_type": "code",
   "execution_count": 24,
   "metadata": {},
   "outputs": [
    {
     "data": {
      "text/plain": [
       "<matplotlib.axes._subplots.AxesSubplot at 0x26f56a33fd0>"
      ]
     },
     "execution_count": 24,
     "metadata": {},
     "output_type": "execute_result"
    },
    {
     "data": {
      "image/png": "[encoded data removed]",
      "text/plain": [
       "<Figure size 576x432 with 2 Axes>"
      ]
     },
     "metadata": {
      "needs_background": "light"
     },
     "output_type": "display_data"
    }
   ],
   "source": [
    "#investiate how ap_hi, ap_lo change with cardio states\n",
    "plt.figure(figsize=(8,6))\n",
    "plt.subplot(1,2,1)\n",
    "sns.boxplot(x='cardio',y='ap_hi',data=df,palette='winter')\n",
    "plt.subplot(1,2,2)\n",
    "sns.boxplot(x='cardio',y='ap_lo',data=df,palette='summer')"
   ]
  },
  {
   "cell_type": "markdown",
   "metadata": {},
   "source": [
    "It can be seen that the for patients having CVD they often have higher ap_hi and ap_lo vlues than those who don't have CVD."
   ]
  },
  {
   "cell_type": "code",
   "execution_count": 25,
   "metadata": {},
   "outputs": [
    {
     "data": {
      "text/plain": [
       "<matplotlib.axes._subplots.AxesSubplot at 0x26f56cb1438>"
      ]
     },
     "execution_count": 25,
     "metadata": {},
     "output_type": "execute_result"
    },
    {
     "data": {
      "image/png": "[encoded data removed]",
      "text/plain": [
       "<Figure size 360x360 with 1 Axes>"
      ]
     },
     "metadata": {
      "needs_background": "light"
     },
     "output_type": "display_data"
    }
   ],
   "source": [
    "#investiate how the number of patients on each level of cholesterol and glucose change \n",
    "#with regard to the cardio states\n",
    "combined = [\"cholesterol\", \"gluc\"]\n",
    "rcParams['figure.figsize'] = 5, 5\n",
    "\n",
    "sns.countplot(x=\"cholesterol\", hue='cardio', data = df, palette=\"Set1\")\n",
    "\n",
    "#df_grouped = df.groupby(by='cardio')\n",
    "#ax = df_grouped.boxplot(column='weight')"
   ]
  },
  {
   "cell_type": "code",
   "execution_count": 26,
   "metadata": {},
   "outputs": [
    {
     "data": {
      "text/plain": [
       "<matplotlib.axes._subplots.AxesSubplot at 0x26f56d08f28>"
      ]
     },
     "execution_count": 26,
     "metadata": {},
     "output_type": "execute_result"
    },
    {
     "data": {
      "image/png": "[encoded data removed]",
      "text/plain": [
       "<Figure size 360x360 with 1 Axes>"
      ]
     },
     "metadata": {
      "needs_background": "light"
     },
     "output_type": "display_data"
    }
   ],
   "source": [
    "sns.countplot(x=\"gluc\", hue='cardio', data = df, palette=\"Set1\")"
   ]
  },
  {
   "cell_type": "markdown",
   "metadata": {},
   "source": [
    "It can seen that at higher levels (>1) of glucose or cholesterol are correlated with more incidence of having CVD.  "
   ]
  },
  {
   "cell_type": "markdown",
   "metadata": {},
   "source": [
    "### Explore Joint Attributes "
   ]
  },
  {
   "cell_type": "code",
   "execution_count": null,
   "metadata": {},
   "outputs": [],
   "source": [
    "#using Seaborn to plot the scatterplot matrix\n",
    "import seaborn as sns\n",
    "cmap = sns.diverging_palette(220, 10, as_cmap=True) # one of the many color mappings\n",
    "#df_imputed_jitter = df.copy()\n",
    "#df_imputed_jitter[['Parch','SibSp','Pclass']] = df_imputed_jitter[['Parch','SibSp','Pclass']].values + np.random.rand(len(df_imputed_jitter),3)/2 \n",
    "sns.pairplot(df, hue=\"cardio\", height=2)"
   ]
  },
  {
   "cell_type": "markdown",
   "metadata": {},
   "source": [
    "Becasue there are too many variables here, it is not easy to find something interesting from just looking at the total scatter plots. A better way is to find the correlation efficient for each pair. "
   ]
  },
  {
   "cell_type": "code",
   "execution_count": null,
   "metadata": {},
   "outputs": [],
   "source": [
    "sns.set_style(\"whitegrid\") \n",
    "#sns.set()\n",
    "\n",
    "#we will drop the variable \"age\" but keep \"years\"\n",
    "if 'age' in df:\n",
    "    del df['age']\n",
    "\n",
    "#plot the coorelation matrix\n",
    "plt.figure(figsize=(15,15))\n",
    "corr = df.corr()\n",
    "cmap = sns.diverging_palette(220, 10, as_cmap=True)\n",
    "# Generate a mask for the upper triangle\n",
    "mask = np.zeros_like(corr, dtype=np.bool)\n",
    "mask[np.triu_indices_from(mask)] = True\n",
    "\n",
    "# Set up the matplotlib figure\n",
    "f, ax = plt.subplots(figsize=(11, 9))\n",
    "# Draw the heatmap with the mask and correct aspect ratio\n",
    "sns.heatmap(corr, mask=mask, cmap=cmap, vmax=.3, center=0,annot = True,\n",
    "            square=True, linewidths=.5, cbar_kws={\"shrink\": .5});"
   ]
  },
  {
   "cell_type": "markdown",
   "metadata": {},
   "source": [
    "From above correlation matrix, it appears that ap_hi and ap_lo has a strong positive correlation (0.7), which makes sense. Height and weight have a positive correlation. It is true that generally tall people weight more than short people. Another noticeable correlation is between gluc and cholesterol. As noticed from earlier analysis, cardio state is positively correlated with ap_hi, ap_lo, age, cholesterol, and, weight, and gluc in deccreasing order. Other interesting correlations are smoke and gender, smoke and alcoholic. It suggests that more males are smoker and a smoker is more likely to be alcoholic than a non-smoker. The following are the plots for some of the paired variables which have relative strong correlation (correlatoin efficient > 0.3). The variables correlate well with cardio will be described in the next section.   "
   ]
  },
  {
   "cell_type": "code",
   "execution_count": null,
   "metadata": {},
   "outputs": [],
   "source": [
    "#scatter plot for ap_hi and ap_lo\n",
    "plt.figure(figsize=(10,10))\n",
    "sns.scatterplot(x='ap_lo',y='ap_hi',data=df)"
   ]
  },
  {
   "cell_type": "markdown",
   "metadata": {},
   "source": [
    "Obviously, we can see a positive correlation between ap_lo and ap_hi."
   ]
  },
  {
   "cell_type": "code",
   "execution_count": null,
   "metadata": {},
   "outputs": [],
   "source": [
    "#displaying the relation between height and gender\n",
    "df_melt = pd.melt(frame=df, value_vars=['height'], id_vars=['gender'])\n",
    "plt.figure(figsize=(8, 6))\n",
    "ax = sns.violinplot(\n",
    "    x='variable', \n",
    "    y='value', \n",
    "    hue='gender', \n",
    "    split=False, \n",
    "    data=df_melt, \n",
    "    scale='count',\n",
    "    scale_hue=False,\n",
    "    palette=\"Set2\");"
   ]
  },
  {
   "cell_type": "code",
   "execution_count": null,
   "metadata": {},
   "outputs": [],
   "source": [
    "#displaying the relation between glucose and cholesterol\n",
    "sns.countplot(x=\"gluc\", hue='cholesterol', data = df, palette=\"Set1\")"
   ]
  },
  {
   "cell_type": "markdown",
   "metadata": {},
   "source": [
    "The above bargraph shows that at lower level of glucose, the percent of people with high cholesterol level is low. With the increase of glucose level to 3, the percentage of people having high lelvel of cholesterol (level 3) increases significantly. "
   ]
  },
  {
   "cell_type": "code",
   "execution_count": null,
   "metadata": {},
   "outputs": [],
   "source": [
    "#displaying the relation between smoke and gender, smoke and alco\n",
    "plt.figure(figsize=(8, 6))\n",
    "plt.subplot(1,2,1)\n",
    "sns.countplot(x='smoke', hue='gender',data=df,palette='winter')\n",
    "plt.subplot(1,2,2)\n",
    "sns.countplot(x='smoke', hue='alco',data=df,palette='summer')\n"
   ]
  },
  {
   "cell_type": "markdown",
   "metadata": {},
   "source": [
    "From above bargraphs we can find that smoking people correspond more to male and more to people who also comsume alcohol. "
   ]
  },
  {
   "cell_type": "markdown",
   "metadata": {},
   "source": [
    "### Explore Relationships between Attributes and Target"
   ]
  },
  {
   "cell_type": "markdown",
   "metadata": {},
   "source": [
    "From correlation matrix plot, we have found that cardio state is positively correlated with ap_hi, ap_lo, years, cholesterol, weight, and gluc. Let's demonstrate that with a scatter plot matrix. "
   ]
  },
  {
   "cell_type": "code",
   "execution_count": null,
   "metadata": {},
   "outputs": [],
   "source": [
    "#using Seaborn to plot the scatterplot matrix for cardio-related variables\n",
    "#import seaborn as sns\n",
    "sns.set()\n",
    "cmap = sns.diverging_palette(220, 10, as_cmap=True) # one of the many color mappings\n",
    "#df_imputed_jitter = df[['years','weight', 'ap_hi', 'ap_lo', 'cholesterol', 'gluc']].copy()\n",
    "#df_imputed_jitter[['age','weight', 'ap_hi', 'ap_lo', 'cholesterol', 'gluc' ]] = df_imputed_jitter[['age','weight', 'ap_hi', 'ap_lo', 'cholesterol', 'gluc']].values + np.random.rand(len(df_imputed_jitter),6)/2 \n",
    "sns.pairplot(df[['years','weight', 'ap_hi', 'ap_lo', 'cholesterol', 'gluc', 'cardio']], hue=\"cardio\", height=3)"
   ]
  },
  {
   "cell_type": "markdown",
   "metadata": {},
   "source": [
    "Let's look at some of the above relationships more closely."
   ]
  },
  {
   "cell_type": "code",
   "execution_count": null,
   "metadata": {},
   "outputs": [],
   "source": [
    "# divide the counts for categorical variables\n",
    "df_long = pd.melt(df, id_vars=['cardio'], value_vars=['gender','cholesterol','gluc', 'smoke', 'alco', 'active'])\n",
    "sns.catplot(x=\"variable\", hue=\"value\", col=\"cardio\",\n",
    "                data=df_long, kind=\"count\")"
   ]
  },
  {
   "cell_type": "code",
   "execution_count": null,
   "metadata": {},
   "outputs": [],
   "source": [
    "df_melt = pd.melt(frame=df, value_vars=['ap_hi'], id_vars=['cardio'])\n",
    "plt.figure(figsize=(8, 6))\n",
    "ax = sns.violinplot(\n",
    "    x='variable', \n",
    "    y='value', \n",
    "    hue='cardio', \n",
    "    split=True, \n",
    "    data=df_melt, \n",
    "    scale='count',\n",
    "    scale_hue=False,\n",
    "    palette=\"Set2\");"
   ]
  },
  {
   "cell_type": "code",
   "execution_count": null,
   "metadata": {
    "scrolled": false
   },
   "outputs": [],
   "source": [
    "df_melt = pd.melt(frame=df, value_vars=['ap_lo'], id_vars=['cardio'])\n",
    "plt.figure(figsize=(8, 6))\n",
    "ax = sns.violinplot(\n",
    "    x='variable', \n",
    "    y='value', \n",
    "    hue='cardio', \n",
    "    split=True, \n",
    "    data=df_melt, \n",
    "    scale='count',\n",
    "    scale_hue=False,\n",
    "    palette=\"Set2\");"
   ]
  },
  {
   "cell_type": "code",
   "execution_count": null,
   "metadata": {},
   "outputs": [],
   "source": [
    "df_melt = pd.melt(frame=df, value_vars=['weight'], id_vars=['cardio'])\n",
    "plt.figure(figsize=(8, 6))\n",
    "ax = sns.violinplot(\n",
    "    x='variable', \n",
    "    y='value', \n",
    "    hue='cardio', \n",
    "    split=True, \n",
    "    data=df_melt, \n",
    "    scale='count',\n",
    "    scale_hue=False,\n",
    "    palette=\"Set2\");"
   ]
  },
  {
   "cell_type": "code",
   "execution_count": null,
   "metadata": {},
   "outputs": [],
   "source": [
    "df_melt = pd.melt(frame=df, value_vars=['years'], id_vars=['cardio'])\n",
    "plt.figure(figsize=(8, 6))\n",
    "ax = sns.violinplot(\n",
    "    x='variable', \n",
    "    y='value', \n",
    "    hue='cardio', \n",
    "    split=True, \n",
    "    data=df_melt, \n",
    "    scale='count',\n",
    "    scale_hue=False,\n",
    "    palette=\"Set2\");"
   ]
  },
  {
   "cell_type": "markdown",
   "metadata": {},
   "source": [
    "It can be seen from above graphs that patients with CVD have higher ap_hi and ap_lo vlaues; more people have higher level of cholecterol and glucose; are older and less active, generally speaking. The values for gender, smoke and alco don't change much from being healthy to being in a cardio disease state."
   ]
  },
  {
   "cell_type": "markdown",
   "metadata": {},
   "source": [
    "Let's look at some other relationships involving cardio."
   ]
  },
  {
   "cell_type": "code",
   "execution_count": null,
   "metadata": {},
   "outputs": [],
   "source": [
    "#check if male and female have similar rates of getting cardio disease\n",
    "\n",
    "plt.style.use('ggplot')\n",
    "%matplotlib inline\n",
    "\n",
    "df_grouped = df.groupby(by=['gender','cholesterol', 'gluc'])\n",
    "cardio_rate = df_grouped.cardio.sum() / df_grouped.cardio.count()\n",
    "ax=cardio_rate.plot(kind='barh', colormap = \"plasma\") #or survival_rate.plot(kind='barh')"
   ]
  },
  {
   "cell_type": "markdown",
   "metadata": {},
   "source": [
    "The above graph suggests that in terms of getting the cardio disease or not, gender is not that critical. On the other hand, the cholesterol level has a positive correlation with cardio-rate. Higher cholesterol levels correspond to higher rates of getting CVD. This is consistent with what we saw from the correlation matrix data. Glucose level also plays some roles here. Interestingly, it seems that higher level of glucose is associated with lower CVD rate. For example, when glucose level is 3, keeping other two variables the same, the rate of CVD is decreased."
   ]
  },
  {
   "cell_type": "markdown",
   "metadata": {},
   "source": [
    "### Other Features That Could Be Added"
   ]
  },
  {
   "cell_type": "markdown",
   "metadata": {},
   "source": [
    "Body mass index (BMI) is commonly used in medical field. It is a key index for relating weight to height. BMI is a person's weight in kilograms (kg) divided by his or her height in meters squared."
   ]
  },
  {
   "cell_type": "code",
   "execution_count": null,
   "metadata": {},
   "outputs": [],
   "source": [
    "#define BMI\n",
    "df['BMI'] = df['weight']/((df['height']/100)**2)\n",
    "# converting BMI range to categorical as 1 = underweight,2 = normal, 3 = overweight and 4 = obese\n",
    "df['BMI'] = df['BMI'].apply(lambda x: 1 if x<18.5 else(2 if x>=18.5 and x<25 else( 3 if x >= 25 and x < 30 else 4)))"
   ]
  },
  {
   "cell_type": "code",
   "execution_count": null,
   "metadata": {},
   "outputs": [],
   "source": [
    "sns.catplot(x=\"BMI\", y=\"years\", hue=\"cardio\",kind=\"point\",data=df,markers=[\"^\", \"o\"], linestyles=[\"-\", \"--\"]);"
   ]
  },
  {
   "cell_type": "markdown",
   "metadata": {},
   "source": [
    "As above plot shows avarege age for patients having CVD is almost constatnt for diffrent BMIs (around 55 years old)."
   ]
  },
  {
   "cell_type": "markdown",
   "metadata": {},
   "source": [
    "## Exceptional Work"
   ]
  },
  {
   "cell_type": "markdown",
   "metadata": {},
   "source": [
    "### Using PCA to reduce the dimentions"
   ]
  },
  {
   "cell_type": "code",
   "execution_count": null,
   "metadata": {},
   "outputs": [],
   "source": [
    "from sklearn.preprocessing import StandardScaler\n",
    "features = [\"gender\", \"height\", \"weight\", \"ap_hi\", \"ap_lo\", \"cholesterol\", \"gluc\", \"smoke\", \"alco\", \"active\", \"years\"]\n",
    "\n",
    "# Separating out the features\n",
    "x = df.loc[:, features].values\n",
    "# Separating out the target\n",
    "y = df.loc[:, ['cardio']].values\n",
    "# Standardizing the features\n",
    "x = StandardScaler().fit_transform(x)"
   ]
  },
  {
   "cell_type": "code",
   "execution_count": null,
   "metadata": {},
   "outputs": [],
   "source": [
    "from sklearn.decomposition import PCA\n",
    "pca = PCA()\n",
    "principalComponents = pca.fit_transform(x)\n",
    "\n",
    "explained_variance = pca.explained_variance_ratio_\n",
    "print(explained_variance)"
   ]
  },
  {
   "cell_type": "markdown",
   "metadata": {},
   "source": [
    "Therefore, the first PC explaied 19% of the overall variance, second PC 17.2%, and so on. Let's plot the result. "
   ]
  },
  {
   "cell_type": "code",
   "execution_count": null,
   "metadata": {},
   "outputs": [],
   "source": [
    "lst=[\"PC1\", \"PC2\", \"PC3\", \"PC4\", \"PC5\", \"PC6\", \"PC7\", \"PC8\", \"PC9\", \"PC10\", \"PC11\"]\n",
    "lst2 = explained_variance\n",
    "df_PCA = pd.DataFrame(list(zip(lst, lst2)), \n",
    "               columns =['Name', 'val']) \n",
    "sns.catplot(x=\"Name\", y=\"val\",kind=\"point\", data=df_PCA, markers=[\"^\"], linestyles=[\"-\"])"
   ]
  },
  {
   "cell_type": "markdown",
   "metadata": {},
   "source": [
    "The above plot suggests that one or two components (PC1 and PC2) are not enough to explain all the variance in the data. We may need all the variables. "
   ]
  },
  {
   "cell_type": "code",
   "execution_count": null,
   "metadata": {},
   "outputs": [],
   "source": [
    "#let's check if we can get a good separation on cardio state by only using two PCs \n",
    "pca = PCA(n_components=2)\n",
    "principalComponents = pca.fit_transform(x)\n",
    "principalDf = pd.DataFrame(data = principalComponents\n",
    "             , columns = ['principal component 1', 'principal component 2'])\n",
    "\n",
    "\n",
    "# print the components\n",
    "print ('pca:', pca.components_)"
   ]
  },
  {
   "cell_type": "code",
   "execution_count": null,
   "metadata": {},
   "outputs": [],
   "source": [
    "finalDf = pd.concat([principalDf, df[['cardio']]], axis = 1)\n",
    "\n",
    "sns.set()\n",
    "fig = plt.figure(figsize = (8,8))\n",
    "ax = sns.scatterplot(x=\"principal component 1\", y=\"principal component 2\", hue=\"cardio\",  data=finalDf)\n",
    "# Set title\n",
    "plt.title('2-Component PCA')\n",
    "\n",
    "# Set x-axis label\n",
    "plt.xlabel('P1')\n",
    "\n",
    "# Set y-axis label\n",
    "plt.ylabel('P2')"
   ]
  },
  {
   "cell_type": "markdown",
   "metadata": {},
   "source": [
    "As expected, using only two PCs, PC1 and PC2, didn't give us good separation on cardio states.  "
   ]
  },
  {
   "cell_type": "markdown",
   "metadata": {},
   "source": [
    "### Balancing out the data entries on gender"
   ]
  },
  {
   "cell_type": "code",
   "execution_count": null,
   "metadata": {},
   "outputs": [],
   "source": []
  },
  {
   "cell_type": "markdown",
   "metadata": {},
   "source": [
    "As we mentioned before the number of Female is almost 2 times as many as that of Male and it may affect on the mean/median of weight,height and age. so we decided to use pandas random sampling technique to remove 50% of Females from dataset."
   ]
  },
  {
   "cell_type": "code",
   "execution_count": null,
   "metadata": {},
   "outputs": [],
   "source": [
    "df_Female50 = df[(df['gender']==1)].sample(frac=0.5,random_state=1)\n",
    "df_new=df.drop(df_Female50.index)\n",
    "df_new.shape\n",
    "df_new['gender'].value_counts()"
   ]
  },
  {
   "cell_type": "code",
   "execution_count": null,
   "metadata": {},
   "outputs": [],
   "source": [
    "df_long = pd.melt(df_new, id_vars=['gender'], value_vars=['cholesterol','gluc', 'smoke', 'alco', 'active'])\n",
    "sns.catplot(x=\"variable\", hue=\"value\", col=\"gender\",\n",
    "                data=df_long, kind=\"count\");"
   ]
  },
  {
   "cell_type": "code",
   "execution_count": null,
   "metadata": {},
   "outputs": [],
   "source": [
    "df[df.gender == 1].describe()"
   ]
  },
  {
   "cell_type": "code",
   "execution_count": null,
   "metadata": {},
   "outputs": [],
   "source": [
    "df[df.gender == 2].describe()"
   ]
  },
  {
   "cell_type": "markdown",
   "metadata": {},
   "source": [
    "Acording to above analysis,  making the numbers of female and men entries even does not make noticeable changes to our pervious assumption that gender is not that significantly correlated on having CVD."
   ]
  }
 ],
 "metadata": {
  "@webio": {
   "lastCommId": null,
   "lastKernelId": null
  },
  "kernelspec": {
   "display_name": "Python 3",
   "language": "python",
   "name": "python3"
  },
  "language_info": {
   "codemirror_mode": {
    "name": "ipython",
    "version": 3
   },
   "file_extension": ".py",
   "mimetype": "text/x-python",
   "name": "python",
   "nbconvert_exporter": "python",
   "pygments_lexer": "ipython3",
   "version": "3.7.1"
  }
 },
 "nbformat": 4,
 "nbformat_minor": 1
}
